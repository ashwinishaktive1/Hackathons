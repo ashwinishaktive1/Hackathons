{
  "nbformat": 4,
  "nbformat_minor": 0,
  "metadata": {
    "colab": {
      "name": "Shopify Challenge.ipynb",
      "provenance": [],
      "collapsed_sections": [],
      "authorship_tag": "ABX9TyMboItnVahiernsh2qY+5CQ",
      "include_colab_link": true
    },
    "kernelspec": {
      "name": "python3",
      "display_name": "Python 3"
    },
    "language_info": {
      "name": "python"
    }
  },
  "cells": [
    {
      "cell_type": "markdown",
      "metadata": {
        "id": "view-in-github",
        "colab_type": "text"
      },
      "source": [
        "<a href=\"https://colab.research.google.com/github/ashwinishaktive1/Hackathons/blob/main/Shopify_Challenge.ipynb\" target=\"_parent\"><img src=\"https://colab.research.google.com/assets/colab-badge.svg\" alt=\"Open In Colab\"/></a>"
      ]
    },
    {
      "cell_type": "code",
      "source": [
        "import numpy as np\n",
        "import pandas as pd\n",
        "import seaborn as sns\n",
        "from scipy import stats"
      ],
      "metadata": {
        "id": "3p4hS82Li9hK"
      },
      "execution_count": 86,
      "outputs": []
    },
    {
      "cell_type": "markdown",
      "source": [
        "# Question 1\n",
        "\n",
        "On Shopify, we have exactly 100 sneaker shops, and each of these shops sells only one model of shoe. We want to do some analysis of the average order value (AOV). When we look at orders data over a 30 day window, we naively calculate an AOV of $3145.13. Given that we know these shops are selling sneakers, a relatively affordable item, something seems wrong with our analysis.\n",
        "\n",
        "### Import Data"
      ],
      "metadata": {
        "id": "ywESnZaTg9Hc"
      }
    },
    {
      "cell_type": "code",
      "source": [
        "q1_data = pd.read_csv(\"/content/2019 Winter Data Science Intern Challenge Data Set - Sheet1.csv\", header = 0)\n",
        "q1_data.head(10)"
      ],
      "metadata": {
        "colab": {
          "base_uri": "https://localhost:8080/",
          "height": 363
        },
        "id": "UdLFenBBimgh",
        "outputId": "7aed59f3-a357-473b-dc93-ce13b8c2553d"
      },
      "execution_count": 87,
      "outputs": [
        {
          "output_type": "execute_result",
          "data": {
            "text/plain": [
              "   order_id  shop_id  user_id  order_amount  total_items payment_method  \\\n",
              "0         1       53      746           224            2           cash   \n",
              "1         2       92      925            90            1           cash   \n",
              "2         3       44      861           144            1           cash   \n",
              "3         4       18      935           156            1    credit_card   \n",
              "4         5       18      883           156            1    credit_card   \n",
              "5         6       58      882           138            1    credit_card   \n",
              "6         7       87      915           149            1           cash   \n",
              "7         8       22      761           292            2           cash   \n",
              "8         9       64      914           266            2          debit   \n",
              "9        10       52      788           146            1    credit_card   \n",
              "\n",
              "            created_at  \n",
              "0  2017-03-13 12:36:56  \n",
              "1  2017-03-03 17:38:52  \n",
              "2   2017-03-14 4:23:56  \n",
              "3  2017-03-26 12:43:37  \n",
              "4   2017-03-01 4:35:11  \n",
              "5  2017-03-14 15:25:01  \n",
              "6  2017-03-01 21:37:57  \n",
              "7   2017-03-08 2:05:38  \n",
              "8  2017-03-17 20:56:50  \n",
              "9  2017-03-30 21:08:26  "
            ],
            "text/html": [
              "\n",
              "  <div id=\"df-a9d2c348-5a5b-4b7b-8dcf-ce161096eb12\">\n",
              "    <div class=\"colab-df-container\">\n",
              "      <div>\n",
              "<style scoped>\n",
              "    .dataframe tbody tr th:only-of-type {\n",
              "        vertical-align: middle;\n",
              "    }\n",
              "\n",
              "    .dataframe tbody tr th {\n",
              "        vertical-align: top;\n",
              "    }\n",
              "\n",
              "    .dataframe thead th {\n",
              "        text-align: right;\n",
              "    }\n",
              "</style>\n",
              "<table border=\"1\" class=\"dataframe\">\n",
              "  <thead>\n",
              "    <tr style=\"text-align: right;\">\n",
              "      <th></th>\n",
              "      <th>order_id</th>\n",
              "      <th>shop_id</th>\n",
              "      <th>user_id</th>\n",
              "      <th>order_amount</th>\n",
              "      <th>total_items</th>\n",
              "      <th>payment_method</th>\n",
              "      <th>created_at</th>\n",
              "    </tr>\n",
              "  </thead>\n",
              "  <tbody>\n",
              "    <tr>\n",
              "      <th>0</th>\n",
              "      <td>1</td>\n",
              "      <td>53</td>\n",
              "      <td>746</td>\n",
              "      <td>224</td>\n",
              "      <td>2</td>\n",
              "      <td>cash</td>\n",
              "      <td>2017-03-13 12:36:56</td>\n",
              "    </tr>\n",
              "    <tr>\n",
              "      <th>1</th>\n",
              "      <td>2</td>\n",
              "      <td>92</td>\n",
              "      <td>925</td>\n",
              "      <td>90</td>\n",
              "      <td>1</td>\n",
              "      <td>cash</td>\n",
              "      <td>2017-03-03 17:38:52</td>\n",
              "    </tr>\n",
              "    <tr>\n",
              "      <th>2</th>\n",
              "      <td>3</td>\n",
              "      <td>44</td>\n",
              "      <td>861</td>\n",
              "      <td>144</td>\n",
              "      <td>1</td>\n",
              "      <td>cash</td>\n",
              "      <td>2017-03-14 4:23:56</td>\n",
              "    </tr>\n",
              "    <tr>\n",
              "      <th>3</th>\n",
              "      <td>4</td>\n",
              "      <td>18</td>\n",
              "      <td>935</td>\n",
              "      <td>156</td>\n",
              "      <td>1</td>\n",
              "      <td>credit_card</td>\n",
              "      <td>2017-03-26 12:43:37</td>\n",
              "    </tr>\n",
              "    <tr>\n",
              "      <th>4</th>\n",
              "      <td>5</td>\n",
              "      <td>18</td>\n",
              "      <td>883</td>\n",
              "      <td>156</td>\n",
              "      <td>1</td>\n",
              "      <td>credit_card</td>\n",
              "      <td>2017-03-01 4:35:11</td>\n",
              "    </tr>\n",
              "    <tr>\n",
              "      <th>5</th>\n",
              "      <td>6</td>\n",
              "      <td>58</td>\n",
              "      <td>882</td>\n",
              "      <td>138</td>\n",
              "      <td>1</td>\n",
              "      <td>credit_card</td>\n",
              "      <td>2017-03-14 15:25:01</td>\n",
              "    </tr>\n",
              "    <tr>\n",
              "      <th>6</th>\n",
              "      <td>7</td>\n",
              "      <td>87</td>\n",
              "      <td>915</td>\n",
              "      <td>149</td>\n",
              "      <td>1</td>\n",
              "      <td>cash</td>\n",
              "      <td>2017-03-01 21:37:57</td>\n",
              "    </tr>\n",
              "    <tr>\n",
              "      <th>7</th>\n",
              "      <td>8</td>\n",
              "      <td>22</td>\n",
              "      <td>761</td>\n",
              "      <td>292</td>\n",
              "      <td>2</td>\n",
              "      <td>cash</td>\n",
              "      <td>2017-03-08 2:05:38</td>\n",
              "    </tr>\n",
              "    <tr>\n",
              "      <th>8</th>\n",
              "      <td>9</td>\n",
              "      <td>64</td>\n",
              "      <td>914</td>\n",
              "      <td>266</td>\n",
              "      <td>2</td>\n",
              "      <td>debit</td>\n",
              "      <td>2017-03-17 20:56:50</td>\n",
              "    </tr>\n",
              "    <tr>\n",
              "      <th>9</th>\n",
              "      <td>10</td>\n",
              "      <td>52</td>\n",
              "      <td>788</td>\n",
              "      <td>146</td>\n",
              "      <td>1</td>\n",
              "      <td>credit_card</td>\n",
              "      <td>2017-03-30 21:08:26</td>\n",
              "    </tr>\n",
              "  </tbody>\n",
              "</table>\n",
              "</div>\n",
              "      <button class=\"colab-df-convert\" onclick=\"convertToInteractive('df-a9d2c348-5a5b-4b7b-8dcf-ce161096eb12')\"\n",
              "              title=\"Convert this dataframe to an interactive table.\"\n",
              "              style=\"display:none;\">\n",
              "        \n",
              "  <svg xmlns=\"http://www.w3.org/2000/svg\" height=\"24px\"viewBox=\"0 0 24 24\"\n",
              "       width=\"24px\">\n",
              "    <path d=\"M0 0h24v24H0V0z\" fill=\"none\"/>\n",
              "    <path d=\"M18.56 5.44l.94 2.06.94-2.06 2.06-.94-2.06-.94-.94-2.06-.94 2.06-2.06.94zm-11 1L8.5 8.5l.94-2.06 2.06-.94-2.06-.94L8.5 2.5l-.94 2.06-2.06.94zm10 10l.94 2.06.94-2.06 2.06-.94-2.06-.94-.94-2.06-.94 2.06-2.06.94z\"/><path d=\"M17.41 7.96l-1.37-1.37c-.4-.4-.92-.59-1.43-.59-.52 0-1.04.2-1.43.59L10.3 9.45l-7.72 7.72c-.78.78-.78 2.05 0 2.83L4 21.41c.39.39.9.59 1.41.59.51 0 1.02-.2 1.41-.59l7.78-7.78 2.81-2.81c.8-.78.8-2.07 0-2.86zM5.41 20L4 18.59l7.72-7.72 1.47 1.35L5.41 20z\"/>\n",
              "  </svg>\n",
              "      </button>\n",
              "      \n",
              "  <style>\n",
              "    .colab-df-container {\n",
              "      display:flex;\n",
              "      flex-wrap:wrap;\n",
              "      gap: 12px;\n",
              "    }\n",
              "\n",
              "    .colab-df-convert {\n",
              "      background-color: #E8F0FE;\n",
              "      border: none;\n",
              "      border-radius: 50%;\n",
              "      cursor: pointer;\n",
              "      display: none;\n",
              "      fill: #1967D2;\n",
              "      height: 32px;\n",
              "      padding: 0 0 0 0;\n",
              "      width: 32px;\n",
              "    }\n",
              "\n",
              "    .colab-df-convert:hover {\n",
              "      background-color: #E2EBFA;\n",
              "      box-shadow: 0px 1px 2px rgba(60, 64, 67, 0.3), 0px 1px 3px 1px rgba(60, 64, 67, 0.15);\n",
              "      fill: #174EA6;\n",
              "    }\n",
              "\n",
              "    [theme=dark] .colab-df-convert {\n",
              "      background-color: #3B4455;\n",
              "      fill: #D2E3FC;\n",
              "    }\n",
              "\n",
              "    [theme=dark] .colab-df-convert:hover {\n",
              "      background-color: #434B5C;\n",
              "      box-shadow: 0px 1px 3px 1px rgba(0, 0, 0, 0.15);\n",
              "      filter: drop-shadow(0px 1px 2px rgba(0, 0, 0, 0.3));\n",
              "      fill: #FFFFFF;\n",
              "    }\n",
              "  </style>\n",
              "\n",
              "      <script>\n",
              "        const buttonEl =\n",
              "          document.querySelector('#df-a9d2c348-5a5b-4b7b-8dcf-ce161096eb12 button.colab-df-convert');\n",
              "        buttonEl.style.display =\n",
              "          google.colab.kernel.accessAllowed ? 'block' : 'none';\n",
              "\n",
              "        async function convertToInteractive(key) {\n",
              "          const element = document.querySelector('#df-a9d2c348-5a5b-4b7b-8dcf-ce161096eb12');\n",
              "          const dataTable =\n",
              "            await google.colab.kernel.invokeFunction('convertToInteractive',\n",
              "                                                     [key], {});\n",
              "          if (!dataTable) return;\n",
              "\n",
              "          const docLinkHtml = 'Like what you see? Visit the ' +\n",
              "            '<a target=\"_blank\" href=https://colab.research.google.com/notebooks/data_table.ipynb>data table notebook</a>'\n",
              "            + ' to learn more about interactive tables.';\n",
              "          element.innerHTML = '';\n",
              "          dataTable['output_type'] = 'display_data';\n",
              "          await google.colab.output.renderOutput(dataTable, element);\n",
              "          const docLink = document.createElement('div');\n",
              "          docLink.innerHTML = docLinkHtml;\n",
              "          element.appendChild(docLink);\n",
              "        }\n",
              "      </script>\n",
              "    </div>\n",
              "  </div>\n",
              "  "
            ]
          },
          "metadata": {},
          "execution_count": 87
        }
      ]
    },
    {
      "cell_type": "code",
      "source": [
        "q1_data.shape"
      ],
      "metadata": {
        "colab": {
          "base_uri": "https://localhost:8080/"
        },
        "id": "ki877DSDlbcW",
        "outputId": "e1616bfe-c735-49f4-9e42-14fe6e9a237e"
      },
      "execution_count": 88,
      "outputs": [
        {
          "output_type": "execute_result",
          "data": {
            "text/plain": [
              "(5000, 7)"
            ]
          },
          "metadata": {},
          "execution_count": 88
        }
      ]
    },
    {
      "cell_type": "code",
      "source": [
        "q1_og = q1_data"
      ],
      "metadata": {
        "id": "9YwSMBiAuEH3"
      },
      "execution_count": 89,
      "outputs": []
    },
    {
      "cell_type": "markdown",
      "source": [
        "While observing through the data manually, the first major buy seemed to be of Dollar 704000, but for a count of 200 items which is approximately ~350 dollars per item seemingly close to cost of many other products. Then comes a single product being sold for ~25000 dollars. This helped me understand that the Average order value has been greatly skewed by such outliers. So the first step would be look at such outliers, and their counts. I will be calculating per item value for each order and plotting a boxplot (or scatterplot) to get a visual representation of the same:"
      ],
      "metadata": {
        "id": "3Cy7lVTjiwKF"
      }
    },
    {
      "cell_type": "code",
      "source": [
        "q1_data['per_item_value'] = q1_data['order_amount'] / q1_data['total_items']\n",
        "q1_data['per_item_value']"
      ],
      "metadata": {
        "colab": {
          "base_uri": "https://localhost:8080/"
        },
        "id": "HWUF480aix9l",
        "outputId": "25171c91-4ab1-4c71-84b3-8e9b236d0c06"
      },
      "execution_count": 90,
      "outputs": [
        {
          "output_type": "execute_result",
          "data": {
            "text/plain": [
              "0       112.0\n",
              "1        90.0\n",
              "2       144.0\n",
              "3       156.0\n",
              "4       156.0\n",
              "        ...  \n",
              "4995    165.0\n",
              "4996    117.0\n",
              "4997    117.0\n",
              "4998    177.0\n",
              "4999    144.0\n",
              "Name: per_item_value, Length: 5000, dtype: float64"
            ]
          },
          "metadata": {},
          "execution_count": 90
        }
      ]
    },
    {
      "cell_type": "code",
      "source": [
        "sns.boxplot(q1_data['per_item_value'])"
      ],
      "metadata": {
        "colab": {
          "base_uri": "https://localhost:8080/",
          "height": 352
        },
        "id": "3owWf00Wh3Hv",
        "outputId": "a34addf0-ad03-445f-f694-20d62932b74e"
      },
      "execution_count": 91,
      "outputs": [
        {
          "output_type": "stream",
          "name": "stderr",
          "text": [
            "/usr/local/lib/python3.7/dist-packages/seaborn/_decorators.py:43: FutureWarning: Pass the following variable as a keyword arg: x. From version 0.12, the only valid positional argument will be `data`, and passing other arguments without an explicit keyword will result in an error or misinterpretation.\n",
            "  FutureWarning\n"
          ]
        },
        {
          "output_type": "execute_result",
          "data": {
            "text/plain": [
              "<matplotlib.axes._subplots.AxesSubplot at 0x7f621544eb10>"
            ]
          },
          "metadata": {},
          "execution_count": 91
        },
        {
          "output_type": "display_data",
          "data": {
            "text/plain": [
              "<Figure size 432x288 with 1 Axes>"
            ],
            "image/png": "[encoded data removed]"
          },
          "metadata": {
            "needs_background": "light"
          }
        }
      ]
    },
    {
      "cell_type": "markdown",
      "source": [
        "We can observe a major outlier at 25000 mark. Let's remove these outliers and look into them seperately. "
      ],
      "metadata": {
        "id": "VhtgLEPhkFx7"
      }
    },
    {
      "cell_type": "code",
      "source": [
        "print(np.where(q1_data['per_item_value']>1000))"
      ],
      "metadata": {
        "colab": {
          "base_uri": "https://localhost:8080/"
        },
        "id": "nj-xsIMhh1iI",
        "outputId": "19632c7a-015a-4290-fa1e-70aaa48d4207"
      },
      "execution_count": 92,
      "outputs": [
        {
          "output_type": "stream",
          "name": "stdout",
          "text": [
            "(array([ 160,  490,  493,  511,  617,  691, 1056, 1193, 1204, 1259, 1384,\n",
            "       1419, 1452, 1529, 2270, 2452, 2492, 2495, 2512, 2548, 2564, 2690,\n",
            "       2773, 2818, 2821, 2906, 2922, 3085, 3101, 3151, 3167, 3403, 3440,\n",
            "       3705, 3724, 3780, 4040, 4079, 4192, 4311, 4412, 4420, 4505, 4584,\n",
            "       4715, 4918]),)\n"
          ]
        }
      ]
    },
    {
      "cell_type": "code",
      "execution_count": 93,
      "metadata": {
        "colab": {
          "base_uri": "https://localhost:8080/"
        },
        "id": "xSXIY_jcghro",
        "outputId": "ed13a02b-cf22-42b8-e0d3-aaa4d9f683d9"
      },
      "outputs": [
        {
          "output_type": "stream",
          "name": "stdout",
          "text": [
            "[0.11292976 0.1219398  0.09982424 ... 0.11088202 0.08630918 0.09982424]\n"
          ]
        }
      ],
      "source": [
        "z = np.abs(stats.zscore(q1_data['per_item_value']))\n",
        "print(z)"
      ]
    },
    {
      "cell_type": "code",
      "source": [
        "non_outliers = (z < 3)\n",
        "non_outliers"
      ],
      "metadata": {
        "colab": {
          "base_uri": "https://localhost:8080/"
        },
        "id": "PW9EVmoqlB29",
        "outputId": "4e8d2e30-4bf8-4b3a-9425-fa7055edbb2c"
      },
      "execution_count": 94,
      "outputs": [
        {
          "output_type": "execute_result",
          "data": {
            "text/plain": [
              "array([ True,  True,  True, ...,  True,  True,  True])"
            ]
          },
          "metadata": {},
          "execution_count": 94
        }
      ]
    },
    {
      "cell_type": "code",
      "source": [
        "q1_data = q1_data[non_outliers]\n",
        "q1_data.shape"
      ],
      "metadata": {
        "colab": {
          "base_uri": "https://localhost:8080/"
        },
        "id": "R32yZS9AlPwA",
        "outputId": "0f2f2358-e946-45e9-d7ad-0aa7368994aa"
      },
      "execution_count": 95,
      "outputs": [
        {
          "output_type": "execute_result",
          "data": {
            "text/plain": [
              "(4954, 8)"
            ]
          },
          "metadata": {},
          "execution_count": 95
        }
      ]
    },
    {
      "cell_type": "markdown",
      "source": [
        "We may now look at the average order values, to re-confirm the given metric:"
      ],
      "metadata": {
        "id": "_CLmWRztplV0"
      }
    },
    {
      "cell_type": "code",
      "source": [
        "updated_aov = sum(q1_data['order_amount']) / sum(q1_data['total_items'])\n",
        "print(\"The updated AOV after removal of outliers is:\", updated_aov)"
      ],
      "metadata": {
        "colab": {
          "base_uri": "https://localhost:8080/"
        },
        "id": "GB-h2HYYpuf1",
        "outputId": "6e7449c8-8dde-481a-95fd-8f6c46c0904d"
      },
      "execution_count": 96,
      "outputs": [
        {
          "output_type": "stream",
          "name": "stdout",
          "text": [
            "The updated AOV after removal of outliers is: 307.01149425287355\n"
          ]
        }
      ]
    },
    {
      "cell_type": "markdown",
      "source": [
        "This seems to be much better than the actual calculation. We have dropped 46 orders as they were largely skewing the calculation. We may manually look into those for cause of errors or product deals!\n",
        "\n",
        "Though, now let's look at another metric to look into sale details, that is Revenue Per Visitor (RPV)! Revenue per visitor (RPV) is a measurement of the amount of money generated each time a customer visits your website. \n",
        "\n",
        "RPV = Total Revenue / Total Unique Visitors"
      ],
      "metadata": {
        "id": "LsCMamx_lBK1"
      }
    },
    {
      "cell_type": "code",
      "source": [
        "RPV = sum(q1_og['order_amount']) / pd.unique(q1_og['user_id']).size\n",
        "print(\"The RPV on the original dataset is:\", RPV)"
      ],
      "metadata": {
        "colab": {
          "base_uri": "https://localhost:8080/"
        },
        "id": "Sp1AbX2HtntD",
        "outputId": "646da222-2a9e-42e0-e65c-269e9e133259"
      },
      "execution_count": 97,
      "outputs": [
        {
          "output_type": "stream",
          "name": "stdout",
          "text": [
            "The RPV on the original dataset is: 52244.651162790695\n"
          ]
        }
      ]
    },
    {
      "cell_type": "code",
      "source": [
        "RPV_wo_outliers = sum(q1_data['order_amount']) / pd.unique(q1_data['user_id']).size\n",
        "print(\"The RPV on the dataset without outliers is:\", RPV_wo_outliers)"
      ],
      "metadata": {
        "colab": {
          "base_uri": "https://localhost:8080/"
        },
        "id": "EkVcr39Dqt10",
        "outputId": "484caba0-9e65-4ec7-85de-05795c4c2739"
      },
      "execution_count": 98,
      "outputs": [
        {
          "output_type": "stream",
          "name": "stdout",
          "text": [
            "The RPV on the dataset without outliers is: 44723.72093023256\n"
          ]
        }
      ]
    },
    {
      "cell_type": "markdown",
      "source": [
        "This looks like a much more noisy metric, since it's getting affected by large buys such as the 704000 order. To resolve this, we'll further need to remove large order value outliers. "
      ],
      "metadata": {
        "id": "O1HIodjIvjgh"
      }
    },
    {
      "cell_type": "markdown",
      "source": [
        "# Question 2:\n",
        "\n",
        "For this question you’ll need to use SQL. Follow this link to access the data set required for the challenge. Please use queries to answer the following questions. Paste your queries along with your final numerical answers below.\n",
        "\n",
        "1. How many orders were shipped by Speedy Express in total?\n",
        "\n",
        "Ans:  *54 orders were shipped by Speedy Express.*\n",
        "\n",
        "SELECT Shippers.ShipperName, COUNT(Orders.OrderID) AS countOfShipments FROM Orders \n",
        "\n",
        "LEFT JOIN Shippers ON Shippers.ShipperID = Orders.ShipperID\n",
        "\n",
        "WHERE ShipperName = \"Speedy Express\"\n",
        "\n",
        "2. What is the last name of the employee with the most orders?\n",
        "\n",
        "Ans: *LastName Peacock with\t40 orders*\n",
        "\n",
        "SELECT Employees.LastName, COUNT(Orders.OrderID) AS employeeWithMaxOrders FROM Orders \n",
        "\n",
        "LEFT JOIN Employees ON Employees.EmployeeID = Orders.EmployeeID\n",
        "\n",
        "GROUP BY LastName\n",
        "\n",
        "ORDER BY employeeWithMaxOrders desc\n",
        "\n",
        "LIMIT 1\n",
        "\n",
        "3. What product was ordered the most by customers in Germany?\n",
        "\n",
        "Ans: \n",
        "\n",
        "SELECT Customers.Country, ProductName FROM Products\n",
        "\n",
        "LEFT JOIN OrderDetails ON Products.ProductID = OrderDetails.ProductID \n",
        "\n",
        "LEFT JOIN Orders ON OrderDetails.OrderID = Orders.OrderID\n",
        "\n",
        "LEFT JOIN Customers ON Orders.CustomerID = Customers.CustomerID\n",
        "\n",
        "WHERE Country = 'Germany'\n",
        "\n",
        "GROUP BY OrderDetails.ProductID\n",
        "\n",
        "ORDER BY COUNT(*) DESC\n",
        "\n",
        "LIMIT 1\n"
      ],
      "metadata": {
        "id": "I2bBb_8BwTsy"
      }
    }
  ]
}